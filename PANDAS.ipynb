{
  "nbformat": 4,
  "nbformat_minor": 0,
  "metadata": {
    "colab": {
      "name": "PANDAS.ipynb",
      "provenance": [],
      "collapsed_sections": []
    },
    "kernelspec": {
      "name": "python3",
      "display_name": "Python 3"
    },
    "language_info": {
      "name": "python"
    }
  },
  "cells": [
    {
      "cell_type": "code",
      "metadata": {
        "id": "Oz0nAeyK7AZi"
      },
      "source": [
        "#Reshaping\n",
        "import pandas as pd\n",
        "import numpy as np"
      ],
      "execution_count": null,
      "outputs": []
    },
    {
      "cell_type": "code",
      "metadata": {
        "id": "ugv_7EcF7EZo"
      },
      "source": [
        "data = pd.date_range('20210101', periods=6)\n",
        "df = pd.DataFrame(np.random.randn(6,4), index=data, columns= ['var A', 'var B','var C', 'var D'])"
      ],
      "execution_count": null,
      "outputs": []
    },
    {
      "cell_type": "code",
      "metadata": {
        "colab": {
          "base_uri": "https://localhost:8080/",
          "height": 235
        },
        "id": "ufS6D3rE7EWR",
        "outputId": "e69c0a52-20d0-4f65-ab3b-a1cc706d0764"
      },
      "source": [
        "df"
      ],
      "execution_count": null,
      "outputs": [
        {
          "output_type": "execute_result",
          "data": {
            "text/html": [
              "<div>\n",
              "<style scoped>\n",
              "    .dataframe tbody tr th:only-of-type {\n",
              "        vertical-align: middle;\n",
              "    }\n",
              "\n",
              "    .dataframe tbody tr th {\n",
              "        vertical-align: top;\n",
              "    }\n",
              "\n",
              "    .dataframe thead th {\n",
              "        text-align: right;\n",
              "    }\n",
              "</style>\n",
              "<table border=\"1\" class=\"dataframe\">\n",
              "  <thead>\n",
              "    <tr style=\"text-align: right;\">\n",
              "      <th></th>\n",
              "      <th>var A</th>\n",
              "      <th>var B</th>\n",
              "      <th>var C</th>\n",
              "      <th>var D</th>\n",
              "    </tr>\n",
              "  </thead>\n",
              "  <tbody>\n",
              "    <tr>\n",
              "      <th>2021-01-01</th>\n",
              "      <td>-1.736261</td>\n",
              "      <td>-0.750036</td>\n",
              "      <td>0.033968</td>\n",
              "      <td>0.128910</td>\n",
              "    </tr>\n",
              "    <tr>\n",
              "      <th>2021-01-02</th>\n",
              "      <td>-0.536540</td>\n",
              "      <td>1.917684</td>\n",
              "      <td>0.865210</td>\n",
              "      <td>-0.098973</td>\n",
              "    </tr>\n",
              "    <tr>\n",
              "      <th>2021-01-03</th>\n",
              "      <td>-1.910097</td>\n",
              "      <td>-0.480833</td>\n",
              "      <td>1.479405</td>\n",
              "      <td>-2.107353</td>\n",
              "    </tr>\n",
              "    <tr>\n",
              "      <th>2021-01-04</th>\n",
              "      <td>0.363428</td>\n",
              "      <td>-1.749453</td>\n",
              "      <td>0.067801</td>\n",
              "      <td>0.402400</td>\n",
              "    </tr>\n",
              "    <tr>\n",
              "      <th>2021-01-05</th>\n",
              "      <td>0.066980</td>\n",
              "      <td>2.003139</td>\n",
              "      <td>-0.181882</td>\n",
              "      <td>-0.713084</td>\n",
              "    </tr>\n",
              "    <tr>\n",
              "      <th>2021-01-06</th>\n",
              "      <td>0.373238</td>\n",
              "      <td>0.891897</td>\n",
              "      <td>0.719527</td>\n",
              "      <td>0.204767</td>\n",
              "    </tr>\n",
              "  </tbody>\n",
              "</table>\n",
              "</div>"
            ],
            "text/plain": [
              "               var A     var B     var C     var D\n",
              "2021-01-01 -1.736261 -0.750036  0.033968  0.128910\n",
              "2021-01-02 -0.536540  1.917684  0.865210 -0.098973\n",
              "2021-01-03 -1.910097 -0.480833  1.479405 -2.107353\n",
              "2021-01-04  0.363428 -1.749453  0.067801  0.402400\n",
              "2021-01-05  0.066980  2.003139 -0.181882 -0.713084\n",
              "2021-01-06  0.373238  0.891897  0.719527  0.204767"
            ]
          },
          "metadata": {
            "tags": []
          },
          "execution_count": 5
        }
      ]
    },
    {
      "cell_type": "code",
      "metadata": {
        "colab": {
          "base_uri": "https://localhost:8080/",
          "height": 173
        },
        "id": "ktQ6VnyL7EUP",
        "outputId": "a9f4a3e6-25a8-4fc2-a2b4-583b917f39f4"
      },
      "source": [
        "# transformar as datas em colunas - traspor - transformando linha em colula\n",
        "dft =df.T\n",
        "dft\n"
      ],
      "execution_count": null,
      "outputs": [
        {
          "output_type": "execute_result",
          "data": {
            "text/html": [
              "<div>\n",
              "<style scoped>\n",
              "    .dataframe tbody tr th:only-of-type {\n",
              "        vertical-align: middle;\n",
              "    }\n",
              "\n",
              "    .dataframe tbody tr th {\n",
              "        vertical-align: top;\n",
              "    }\n",
              "\n",
              "    .dataframe thead th {\n",
              "        text-align: right;\n",
              "    }\n",
              "</style>\n",
              "<table border=\"1\" class=\"dataframe\">\n",
              "  <thead>\n",
              "    <tr style=\"text-align: right;\">\n",
              "      <th></th>\n",
              "      <th>2021-01-01</th>\n",
              "      <th>2021-01-02</th>\n",
              "      <th>2021-01-03</th>\n",
              "      <th>2021-01-04</th>\n",
              "      <th>2021-01-05</th>\n",
              "      <th>2021-01-06</th>\n",
              "    </tr>\n",
              "  </thead>\n",
              "  <tbody>\n",
              "    <tr>\n",
              "      <th>var A</th>\n",
              "      <td>-1.736261</td>\n",
              "      <td>-0.536540</td>\n",
              "      <td>-1.910097</td>\n",
              "      <td>0.363428</td>\n",
              "      <td>0.066980</td>\n",
              "      <td>0.373238</td>\n",
              "    </tr>\n",
              "    <tr>\n",
              "      <th>var B</th>\n",
              "      <td>-0.750036</td>\n",
              "      <td>1.917684</td>\n",
              "      <td>-0.480833</td>\n",
              "      <td>-1.749453</td>\n",
              "      <td>2.003139</td>\n",
              "      <td>0.891897</td>\n",
              "    </tr>\n",
              "    <tr>\n",
              "      <th>var C</th>\n",
              "      <td>0.033968</td>\n",
              "      <td>0.865210</td>\n",
              "      <td>1.479405</td>\n",
              "      <td>0.067801</td>\n",
              "      <td>-0.181882</td>\n",
              "      <td>0.719527</td>\n",
              "    </tr>\n",
              "    <tr>\n",
              "      <th>var D</th>\n",
              "      <td>0.128910</td>\n",
              "      <td>-0.098973</td>\n",
              "      <td>-2.107353</td>\n",
              "      <td>0.402400</td>\n",
              "      <td>-0.713084</td>\n",
              "      <td>0.204767</td>\n",
              "    </tr>\n",
              "  </tbody>\n",
              "</table>\n",
              "</div>"
            ],
            "text/plain": [
              "       2021-01-01  2021-01-02  2021-01-03  2021-01-04  2021-01-05  2021-01-06\n",
              "var A   -1.736261   -0.536540   -1.910097    0.363428    0.066980    0.373238\n",
              "var B   -0.750036    1.917684   -0.480833   -1.749453    2.003139    0.891897\n",
              "var C    0.033968    0.865210    1.479405    0.067801   -0.181882    0.719527\n",
              "var D    0.128910   -0.098973   -2.107353    0.402400   -0.713084    0.204767"
            ]
          },
          "metadata": {
            "tags": []
          },
          "execution_count": 8
        }
      ]
    },
    {
      "cell_type": "code",
      "metadata": {
        "colab": {
          "base_uri": "https://localhost:8080/"
        },
        "id": "vVffe8tr7ERw",
        "outputId": "77d1e9ff-1abb-420c-e4a4-823a9ddf4644"
      },
      "source": [
        "dft.shape"
      ],
      "execution_count": null,
      "outputs": [
        {
          "output_type": "execute_result",
          "data": {
            "text/plain": [
              "(4, 6)"
            ]
          },
          "metadata": {
            "tags": []
          },
          "execution_count": 9
        }
      ]
    },
    {
      "cell_type": "code",
      "metadata": {
        "colab": {
          "base_uri": "https://localhost:8080/"
        },
        "id": "BxwKTBC-7EOu",
        "outputId": "06ef16ac-39b7-461c-eae6-3b5ecdf7b5de"
      },
      "source": [
        "df.shape"
      ],
      "execution_count": null,
      "outputs": [
        {
          "output_type": "execute_result",
          "data": {
            "text/plain": [
              "(6, 4)"
            ]
          },
          "metadata": {
            "tags": []
          },
          "execution_count": 10
        }
      ]
    },
    {
      "cell_type": "code",
      "metadata": {
        "colab": {
          "base_uri": "https://localhost:8080/"
        },
        "id": "eqZxQ7dK89KT",
        "outputId": "3d645e16-4ccf-4d32-b084-96e0a08c3847"
      },
      "source": [
        "#visualizando os valores do data frame\n",
        "v = dft.values\n",
        "v"
      ],
      "execution_count": null,
      "outputs": [
        {
          "output_type": "execute_result",
          "data": {
            "text/plain": [
              "array([[-1.73626142, -0.53654031, -1.91009748,  0.36342759,  0.06697978,\n",
              "         0.37323831],\n",
              "       [-0.75003589,  1.91768434, -0.48083274, -1.74945297,  2.00313858,\n",
              "         0.89189683],\n",
              "       [ 0.03396785,  0.86520969,  1.47940495,  0.06780146, -0.18188161,\n",
              "         0.71952694],\n",
              "       [ 0.12891016, -0.09897331, -2.10735298,  0.4023996 , -0.71308365,\n",
              "         0.20476721]])"
            ]
          },
          "metadata": {
            "tags": []
          },
          "execution_count": 12
        }
      ]
    },
    {
      "cell_type": "code",
      "metadata": {
        "colab": {
          "base_uri": "https://localhost:8080/"
        },
        "id": "m_ps_ytO89G5",
        "outputId": "391f21db-6798-4f49-eae8-317bc48897ef"
      },
      "source": [
        "# reshape\n",
        "v.reshape((2,12))"
      ],
      "execution_count": null,
      "outputs": [
        {
          "output_type": "execute_result",
          "data": {
            "text/plain": [
              "array([[-1.73626142, -0.53654031, -1.91009748,  0.36342759,  0.06697978,\n",
              "         0.37323831, -0.75003589,  1.91768434, -0.48083274, -1.74945297,\n",
              "         2.00313858,  0.89189683],\n",
              "       [ 0.03396785,  0.86520969,  1.47940495,  0.06780146, -0.18188161,\n",
              "         0.71952694,  0.12891016, -0.09897331, -2.10735298,  0.4023996 ,\n",
              "        -0.71308365,  0.20476721]])"
            ]
          },
          "metadata": {
            "tags": []
          },
          "execution_count": 13
        }
      ]
    },
    {
      "cell_type": "code",
      "metadata": {
        "colab": {
          "base_uri": "https://localhost:8080/"
        },
        "id": "z69iNIrd9LUW",
        "outputId": "a4150e02-853d-4df0-8a60-658f79d0cc54"
      },
      "source": [
        "# função PIVOT\n",
        "dias = pd.date_range(start='20160101', periods=12)\n",
        "dias"
      ],
      "execution_count": null,
      "outputs": [
        {
          "output_type": "execute_result",
          "data": {
            "text/plain": [
              "DatetimeIndex(['2016-01-01', '2016-01-02', '2016-01-03', '2016-01-04',\n",
              "               '2016-01-05', '2016-01-06', '2016-01-07', '2016-01-08',\n",
              "               '2016-01-09', '2016-01-10', '2016-01-11', '2016-01-12'],\n",
              "              dtype='datetime64[ns]', freq='D')"
            ]
          },
          "metadata": {
            "tags": []
          },
          "execution_count": 14
        }
      ]
    },
    {
      "cell_type": "code",
      "metadata": {
        "id": "aWtSNbyk9LQy"
      },
      "source": [
        "Pessoa = ['Danielly', 'Marcia', 'Lucia']"
      ],
      "execution_count": null,
      "outputs": []
    },
    {
      "cell_type": "code",
      "metadata": {
        "colab": {
          "base_uri": "https://localhost:8080/",
          "height": 35
        },
        "id": "NefVscjE9LOG",
        "outputId": "c7ae31e0-a376-423b-b5cb-6d53b09a8b91"
      },
      "source": [
        "# escolher pessoa de forma aleatoria\n",
        "np.random.choice(Pessoa)"
      ],
      "execution_count": null,
      "outputs": [
        {
          "output_type": "execute_result",
          "data": {
            "application/vnd.google.colaboratory.intrinsic+json": {
              "type": "string"
            },
            "text/plain": [
              "'Danielly'"
            ]
          },
          "metadata": {
            "tags": []
          },
          "execution_count": 16
        }
      ]
    },
    {
      "cell_type": "code",
      "metadata": {
        "id": "u-PK88_P9LLl"
      },
      "source": [
        "# cria função de gasto e o np.round arredonda a quantidade de casas decimais\n",
        "nome = []\n",
        "gasto = []\n",
        "for i in range(12):\n",
        "  nome.append (np.random.choice(Pessoa))\n",
        "  gasto.append(np.round(np.random.randn()*100,2))"
      ],
      "execution_count": null,
      "outputs": []
    },
    {
      "cell_type": "code",
      "metadata": {
        "colab": {
          "base_uri": "https://localhost:8080/"
        },
        "id": "FvsbGKOr_A9z",
        "outputId": "90f0af87-e7ef-4e1c-c271-9145759457ba"
      },
      "source": [
        "gasto"
      ],
      "execution_count": null,
      "outputs": [
        {
          "output_type": "execute_result",
          "data": {
            "text/plain": [
              "[-78.36,\n",
              " -8.49,\n",
              " 45.47,\n",
              " -19.54,\n",
              " 155.78,\n",
              " 27.8,\n",
              " 61.84,\n",
              " -20.37,\n",
              " 76.75,\n",
              " 53.69,\n",
              " 24.58,\n",
              " 135.78]"
            ]
          },
          "metadata": {
            "tags": []
          },
          "execution_count": 19
        }
      ]
    },
    {
      "cell_type": "code",
      "metadata": {
        "id": "qokNLIAX_A56"
      },
      "source": [
        "df2 = pd.DataFrame({'dia':dias, 'nome': nome, 'gasto': gasto})"
      ],
      "execution_count": null,
      "outputs": []
    },
    {
      "cell_type": "code",
      "metadata": {
        "colab": {
          "base_uri": "https://localhost:8080/",
          "height": 421
        },
        "id": "ZA-1SJrx_tTF",
        "outputId": "6ae8484a-ca1b-4390-a1db-c184d37f4ed3"
      },
      "source": [
        "df2"
      ],
      "execution_count": null,
      "outputs": [
        {
          "output_type": "execute_result",
          "data": {
            "text/html": [
              "<div>\n",
              "<style scoped>\n",
              "    .dataframe tbody tr th:only-of-type {\n",
              "        vertical-align: middle;\n",
              "    }\n",
              "\n",
              "    .dataframe tbody tr th {\n",
              "        vertical-align: top;\n",
              "    }\n",
              "\n",
              "    .dataframe thead th {\n",
              "        text-align: right;\n",
              "    }\n",
              "</style>\n",
              "<table border=\"1\" class=\"dataframe\">\n",
              "  <thead>\n",
              "    <tr style=\"text-align: right;\">\n",
              "      <th></th>\n",
              "      <th>dia</th>\n",
              "      <th>nome</th>\n",
              "      <th>gasto</th>\n",
              "    </tr>\n",
              "  </thead>\n",
              "  <tbody>\n",
              "    <tr>\n",
              "      <th>0</th>\n",
              "      <td>2016-01-01</td>\n",
              "      <td>Lucia</td>\n",
              "      <td>-78.36</td>\n",
              "    </tr>\n",
              "    <tr>\n",
              "      <th>1</th>\n",
              "      <td>2016-01-02</td>\n",
              "      <td>Marcia</td>\n",
              "      <td>-8.49</td>\n",
              "    </tr>\n",
              "    <tr>\n",
              "      <th>2</th>\n",
              "      <td>2016-01-03</td>\n",
              "      <td>Lucia</td>\n",
              "      <td>45.47</td>\n",
              "    </tr>\n",
              "    <tr>\n",
              "      <th>3</th>\n",
              "      <td>2016-01-04</td>\n",
              "      <td>Marcia</td>\n",
              "      <td>-19.54</td>\n",
              "    </tr>\n",
              "    <tr>\n",
              "      <th>4</th>\n",
              "      <td>2016-01-05</td>\n",
              "      <td>Danielly</td>\n",
              "      <td>155.78</td>\n",
              "    </tr>\n",
              "    <tr>\n",
              "      <th>5</th>\n",
              "      <td>2016-01-06</td>\n",
              "      <td>Marcia</td>\n",
              "      <td>27.80</td>\n",
              "    </tr>\n",
              "    <tr>\n",
              "      <th>6</th>\n",
              "      <td>2016-01-07</td>\n",
              "      <td>Danielly</td>\n",
              "      <td>61.84</td>\n",
              "    </tr>\n",
              "    <tr>\n",
              "      <th>7</th>\n",
              "      <td>2016-01-08</td>\n",
              "      <td>Lucia</td>\n",
              "      <td>-20.37</td>\n",
              "    </tr>\n",
              "    <tr>\n",
              "      <th>8</th>\n",
              "      <td>2016-01-09</td>\n",
              "      <td>Lucia</td>\n",
              "      <td>76.75</td>\n",
              "    </tr>\n",
              "    <tr>\n",
              "      <th>9</th>\n",
              "      <td>2016-01-10</td>\n",
              "      <td>Marcia</td>\n",
              "      <td>53.69</td>\n",
              "    </tr>\n",
              "    <tr>\n",
              "      <th>10</th>\n",
              "      <td>2016-01-11</td>\n",
              "      <td>Marcia</td>\n",
              "      <td>24.58</td>\n",
              "    </tr>\n",
              "    <tr>\n",
              "      <th>11</th>\n",
              "      <td>2016-01-12</td>\n",
              "      <td>Marcia</td>\n",
              "      <td>135.78</td>\n",
              "    </tr>\n",
              "  </tbody>\n",
              "</table>\n",
              "</div>"
            ],
            "text/plain": [
              "          dia      nome   gasto\n",
              "0  2016-01-01     Lucia  -78.36\n",
              "1  2016-01-02    Marcia   -8.49\n",
              "2  2016-01-03     Lucia   45.47\n",
              "3  2016-01-04    Marcia  -19.54\n",
              "4  2016-01-05  Danielly  155.78\n",
              "5  2016-01-06    Marcia   27.80\n",
              "6  2016-01-07  Danielly   61.84\n",
              "7  2016-01-08     Lucia  -20.37\n",
              "8  2016-01-09     Lucia   76.75\n",
              "9  2016-01-10    Marcia   53.69\n",
              "10 2016-01-11    Marcia   24.58\n",
              "11 2016-01-12    Marcia  135.78"
            ]
          },
          "metadata": {
            "tags": []
          },
          "execution_count": 22
        }
      ]
    },
    {
      "cell_type": "code",
      "metadata": {
        "colab": {
          "base_uri": "https://localhost:8080/",
          "height": 452
        },
        "id": "x-CIN3eC_tP8",
        "outputId": "f536b0ee-5e80-4483-8f7f-8e2c272e70b7"
      },
      "source": [
        "# função PIVOT\n",
        "df2.pivot(index='dia', columns='nome', values='gasto')"
      ],
      "execution_count": null,
      "outputs": [
        {
          "output_type": "execute_result",
          "data": {
            "text/html": [
              "<div>\n",
              "<style scoped>\n",
              "    .dataframe tbody tr th:only-of-type {\n",
              "        vertical-align: middle;\n",
              "    }\n",
              "\n",
              "    .dataframe tbody tr th {\n",
              "        vertical-align: top;\n",
              "    }\n",
              "\n",
              "    .dataframe thead th {\n",
              "        text-align: right;\n",
              "    }\n",
              "</style>\n",
              "<table border=\"1\" class=\"dataframe\">\n",
              "  <thead>\n",
              "    <tr style=\"text-align: right;\">\n",
              "      <th>nome</th>\n",
              "      <th>Danielly</th>\n",
              "      <th>Lucia</th>\n",
              "      <th>Marcia</th>\n",
              "    </tr>\n",
              "    <tr>\n",
              "      <th>dia</th>\n",
              "      <th></th>\n",
              "      <th></th>\n",
              "      <th></th>\n",
              "    </tr>\n",
              "  </thead>\n",
              "  <tbody>\n",
              "    <tr>\n",
              "      <th>2016-01-01</th>\n",
              "      <td>NaN</td>\n",
              "      <td>-78.36</td>\n",
              "      <td>NaN</td>\n",
              "    </tr>\n",
              "    <tr>\n",
              "      <th>2016-01-02</th>\n",
              "      <td>NaN</td>\n",
              "      <td>NaN</td>\n",
              "      <td>-8.49</td>\n",
              "    </tr>\n",
              "    <tr>\n",
              "      <th>2016-01-03</th>\n",
              "      <td>NaN</td>\n",
              "      <td>45.47</td>\n",
              "      <td>NaN</td>\n",
              "    </tr>\n",
              "    <tr>\n",
              "      <th>2016-01-04</th>\n",
              "      <td>NaN</td>\n",
              "      <td>NaN</td>\n",
              "      <td>-19.54</td>\n",
              "    </tr>\n",
              "    <tr>\n",
              "      <th>2016-01-05</th>\n",
              "      <td>155.78</td>\n",
              "      <td>NaN</td>\n",
              "      <td>NaN</td>\n",
              "    </tr>\n",
              "    <tr>\n",
              "      <th>2016-01-06</th>\n",
              "      <td>NaN</td>\n",
              "      <td>NaN</td>\n",
              "      <td>27.80</td>\n",
              "    </tr>\n",
              "    <tr>\n",
              "      <th>2016-01-07</th>\n",
              "      <td>61.84</td>\n",
              "      <td>NaN</td>\n",
              "      <td>NaN</td>\n",
              "    </tr>\n",
              "    <tr>\n",
              "      <th>2016-01-08</th>\n",
              "      <td>NaN</td>\n",
              "      <td>-20.37</td>\n",
              "      <td>NaN</td>\n",
              "    </tr>\n",
              "    <tr>\n",
              "      <th>2016-01-09</th>\n",
              "      <td>NaN</td>\n",
              "      <td>76.75</td>\n",
              "      <td>NaN</td>\n",
              "    </tr>\n",
              "    <tr>\n",
              "      <th>2016-01-10</th>\n",
              "      <td>NaN</td>\n",
              "      <td>NaN</td>\n",
              "      <td>53.69</td>\n",
              "    </tr>\n",
              "    <tr>\n",
              "      <th>2016-01-11</th>\n",
              "      <td>NaN</td>\n",
              "      <td>NaN</td>\n",
              "      <td>24.58</td>\n",
              "    </tr>\n",
              "    <tr>\n",
              "      <th>2016-01-12</th>\n",
              "      <td>NaN</td>\n",
              "      <td>NaN</td>\n",
              "      <td>135.78</td>\n",
              "    </tr>\n",
              "  </tbody>\n",
              "</table>\n",
              "</div>"
            ],
            "text/plain": [
              "nome        Danielly  Lucia  Marcia\n",
              "dia                                \n",
              "2016-01-01       NaN -78.36     NaN\n",
              "2016-01-02       NaN    NaN   -8.49\n",
              "2016-01-03       NaN  45.47     NaN\n",
              "2016-01-04       NaN    NaN  -19.54\n",
              "2016-01-05    155.78    NaN     NaN\n",
              "2016-01-06       NaN    NaN   27.80\n",
              "2016-01-07     61.84    NaN     NaN\n",
              "2016-01-08       NaN -20.37     NaN\n",
              "2016-01-09       NaN  76.75     NaN\n",
              "2016-01-10       NaN    NaN   53.69\n",
              "2016-01-11       NaN    NaN   24.58\n",
              "2016-01-12       NaN    NaN  135.78"
            ]
          },
          "metadata": {
            "tags": []
          },
          "execution_count": 23
        }
      ]
    },
    {
      "cell_type": "code",
      "metadata": {
        "colab": {
          "base_uri": "https://localhost:8080/",
          "height": 452
        },
        "id": "Nh4urQAx_tNN",
        "outputId": "d0e6853d-00a3-487d-8162-ea39bb358559"
      },
      "source": [
        "#pivot table mais abrangente aceita numeros fracionados\n",
        "df2.pivot_table(index='dia', columns='nome', values='gasto')"
      ],
      "execution_count": null,
      "outputs": [
        {
          "output_type": "execute_result",
          "data": {
            "text/html": [
              "<div>\n",
              "<style scoped>\n",
              "    .dataframe tbody tr th:only-of-type {\n",
              "        vertical-align: middle;\n",
              "    }\n",
              "\n",
              "    .dataframe tbody tr th {\n",
              "        vertical-align: top;\n",
              "    }\n",
              "\n",
              "    .dataframe thead th {\n",
              "        text-align: right;\n",
              "    }\n",
              "</style>\n",
              "<table border=\"1\" class=\"dataframe\">\n",
              "  <thead>\n",
              "    <tr style=\"text-align: right;\">\n",
              "      <th>nome</th>\n",
              "      <th>Danielly</th>\n",
              "      <th>Lucia</th>\n",
              "      <th>Marcia</th>\n",
              "    </tr>\n",
              "    <tr>\n",
              "      <th>dia</th>\n",
              "      <th></th>\n",
              "      <th></th>\n",
              "      <th></th>\n",
              "    </tr>\n",
              "  </thead>\n",
              "  <tbody>\n",
              "    <tr>\n",
              "      <th>2016-01-01</th>\n",
              "      <td>NaN</td>\n",
              "      <td>-78.36</td>\n",
              "      <td>NaN</td>\n",
              "    </tr>\n",
              "    <tr>\n",
              "      <th>2016-01-02</th>\n",
              "      <td>NaN</td>\n",
              "      <td>NaN</td>\n",
              "      <td>-8.49</td>\n",
              "    </tr>\n",
              "    <tr>\n",
              "      <th>2016-01-03</th>\n",
              "      <td>NaN</td>\n",
              "      <td>45.47</td>\n",
              "      <td>NaN</td>\n",
              "    </tr>\n",
              "    <tr>\n",
              "      <th>2016-01-04</th>\n",
              "      <td>NaN</td>\n",
              "      <td>NaN</td>\n",
              "      <td>-19.54</td>\n",
              "    </tr>\n",
              "    <tr>\n",
              "      <th>2016-01-05</th>\n",
              "      <td>155.78</td>\n",
              "      <td>NaN</td>\n",
              "      <td>NaN</td>\n",
              "    </tr>\n",
              "    <tr>\n",
              "      <th>2016-01-06</th>\n",
              "      <td>NaN</td>\n",
              "      <td>NaN</td>\n",
              "      <td>27.80</td>\n",
              "    </tr>\n",
              "    <tr>\n",
              "      <th>2016-01-07</th>\n",
              "      <td>61.84</td>\n",
              "      <td>NaN</td>\n",
              "      <td>NaN</td>\n",
              "    </tr>\n",
              "    <tr>\n",
              "      <th>2016-01-08</th>\n",
              "      <td>NaN</td>\n",
              "      <td>-20.37</td>\n",
              "      <td>NaN</td>\n",
              "    </tr>\n",
              "    <tr>\n",
              "      <th>2016-01-09</th>\n",
              "      <td>NaN</td>\n",
              "      <td>76.75</td>\n",
              "      <td>NaN</td>\n",
              "    </tr>\n",
              "    <tr>\n",
              "      <th>2016-01-10</th>\n",
              "      <td>NaN</td>\n",
              "      <td>NaN</td>\n",
              "      <td>53.69</td>\n",
              "    </tr>\n",
              "    <tr>\n",
              "      <th>2016-01-11</th>\n",
              "      <td>NaN</td>\n",
              "      <td>NaN</td>\n",
              "      <td>24.58</td>\n",
              "    </tr>\n",
              "    <tr>\n",
              "      <th>2016-01-12</th>\n",
              "      <td>NaN</td>\n",
              "      <td>NaN</td>\n",
              "      <td>135.78</td>\n",
              "    </tr>\n",
              "  </tbody>\n",
              "</table>\n",
              "</div>"
            ],
            "text/plain": [
              "nome        Danielly  Lucia  Marcia\n",
              "dia                                \n",
              "2016-01-01       NaN -78.36     NaN\n",
              "2016-01-02       NaN    NaN   -8.49\n",
              "2016-01-03       NaN  45.47     NaN\n",
              "2016-01-04       NaN    NaN  -19.54\n",
              "2016-01-05    155.78    NaN     NaN\n",
              "2016-01-06       NaN    NaN   27.80\n",
              "2016-01-07     61.84    NaN     NaN\n",
              "2016-01-08       NaN -20.37     NaN\n",
              "2016-01-09       NaN  76.75     NaN\n",
              "2016-01-10       NaN    NaN   53.69\n",
              "2016-01-11       NaN    NaN   24.58\n",
              "2016-01-12       NaN    NaN  135.78"
            ]
          },
          "metadata": {
            "tags": []
          },
          "execution_count": 24
        }
      ]
    },
    {
      "cell_type": "code",
      "metadata": {
        "id": "QS2M5tYw_tKn"
      },
      "source": [
        "# seleção de linhas e colunas \n",
        "datas2=pd.date_range('20150101',periods=600, freq='D')\n",
        "df3 = pd.DataFrame(np.random.randn(600,5), index = datas2, columns=list('ABCDE'))"
      ],
      "execution_count": null,
      "outputs": []
    },
    {
      "cell_type": "code",
      "metadata": {
        "id": "Fa5iWLgL_A3S",
        "colab": {
          "base_uri": "https://localhost:8080/",
          "height": 111
        },
        "outputId": "08f53a0f-a6f1-488c-ffd9-a5eed912eda8"
      },
      "source": [
        "df3.head(2)"
      ],
      "execution_count": null,
      "outputs": [
        {
          "output_type": "execute_result",
          "data": {
            "text/html": [
              "<div>\n",
              "<style scoped>\n",
              "    .dataframe tbody tr th:only-of-type {\n",
              "        vertical-align: middle;\n",
              "    }\n",
              "\n",
              "    .dataframe tbody tr th {\n",
              "        vertical-align: top;\n",
              "    }\n",
              "\n",
              "    .dataframe thead th {\n",
              "        text-align: right;\n",
              "    }\n",
              "</style>\n",
              "<table border=\"1\" class=\"dataframe\">\n",
              "  <thead>\n",
              "    <tr style=\"text-align: right;\">\n",
              "      <th></th>\n",
              "      <th>A</th>\n",
              "      <th>B</th>\n",
              "      <th>C</th>\n",
              "      <th>D</th>\n",
              "      <th>E</th>\n",
              "    </tr>\n",
              "  </thead>\n",
              "  <tbody>\n",
              "    <tr>\n",
              "      <th>2015-01-01</th>\n",
              "      <td>-0.998907</td>\n",
              "      <td>0.014386</td>\n",
              "      <td>-0.833885</td>\n",
              "      <td>-0.332171</td>\n",
              "      <td>0.586323</td>\n",
              "    </tr>\n",
              "    <tr>\n",
              "      <th>2015-01-02</th>\n",
              "      <td>0.102685</td>\n",
              "      <td>0.938870</td>\n",
              "      <td>0.683354</td>\n",
              "      <td>0.589913</td>\n",
              "      <td>1.166193</td>\n",
              "    </tr>\n",
              "  </tbody>\n",
              "</table>\n",
              "</div>"
            ],
            "text/plain": [
              "                   A         B         C         D         E\n",
              "2015-01-01 -0.998907  0.014386 -0.833885 -0.332171  0.586323\n",
              "2015-01-02  0.102685  0.938870  0.683354  0.589913  1.166193"
            ]
          },
          "metadata": {
            "tags": []
          },
          "execution_count": 5
        }
      ]
    },
    {
      "cell_type": "code",
      "metadata": {
        "colab": {
          "base_uri": "https://localhost:8080/"
        },
        "id": "SSInGr6EWRxr",
        "outputId": "27710309-aa40-474a-d5b4-7acd57b3b9e5"
      },
      "source": [
        "# obter todas as informações df3['D']\n",
        "df3['D'].head(3)"
      ],
      "execution_count": null,
      "outputs": [
        {
          "output_type": "execute_result",
          "data": {
            "text/plain": [
              "2015-01-01   -0.332171\n",
              "2015-01-02    0.589913\n",
              "2015-01-03    1.500308\n",
              "Freq: D, Name: D, dtype: float64"
            ]
          },
          "metadata": {
            "tags": []
          },
          "execution_count": 7
        }
      ]
    },
    {
      "cell_type": "code",
      "metadata": {
        "colab": {
          "base_uri": "https://localhost:8080/",
          "height": 204
        },
        "id": "9yoAT-tlWRvF",
        "outputId": "edec4f54-8205-423e-d278-5f479808e8ed"
      },
      "source": [
        "df3.head(5)"
      ],
      "execution_count": null,
      "outputs": [
        {
          "output_type": "execute_result",
          "data": {
            "text/html": [
              "<div>\n",
              "<style scoped>\n",
              "    .dataframe tbody tr th:only-of-type {\n",
              "        vertical-align: middle;\n",
              "    }\n",
              "\n",
              "    .dataframe tbody tr th {\n",
              "        vertical-align: top;\n",
              "    }\n",
              "\n",
              "    .dataframe thead th {\n",
              "        text-align: right;\n",
              "    }\n",
              "</style>\n",
              "<table border=\"1\" class=\"dataframe\">\n",
              "  <thead>\n",
              "    <tr style=\"text-align: right;\">\n",
              "      <th></th>\n",
              "      <th>A</th>\n",
              "      <th>B</th>\n",
              "      <th>C</th>\n",
              "      <th>D</th>\n",
              "      <th>E</th>\n",
              "    </tr>\n",
              "  </thead>\n",
              "  <tbody>\n",
              "    <tr>\n",
              "      <th>2015-01-01</th>\n",
              "      <td>-0.998907</td>\n",
              "      <td>0.014386</td>\n",
              "      <td>-0.833885</td>\n",
              "      <td>-0.332171</td>\n",
              "      <td>0.586323</td>\n",
              "    </tr>\n",
              "    <tr>\n",
              "      <th>2015-01-02</th>\n",
              "      <td>0.102685</td>\n",
              "      <td>0.938870</td>\n",
              "      <td>0.683354</td>\n",
              "      <td>0.589913</td>\n",
              "      <td>1.166193</td>\n",
              "    </tr>\n",
              "    <tr>\n",
              "      <th>2015-01-03</th>\n",
              "      <td>-0.867617</td>\n",
              "      <td>0.023997</td>\n",
              "      <td>-1.691339</td>\n",
              "      <td>1.500308</td>\n",
              "      <td>1.560667</td>\n",
              "    </tr>\n",
              "    <tr>\n",
              "      <th>2015-01-04</th>\n",
              "      <td>1.242142</td>\n",
              "      <td>-2.273332</td>\n",
              "      <td>-2.029672</td>\n",
              "      <td>-0.008212</td>\n",
              "      <td>1.595275</td>\n",
              "    </tr>\n",
              "    <tr>\n",
              "      <th>2015-01-05</th>\n",
              "      <td>-0.825060</td>\n",
              "      <td>1.142048</td>\n",
              "      <td>-0.485406</td>\n",
              "      <td>-1.416424</td>\n",
              "      <td>0.051378</td>\n",
              "    </tr>\n",
              "  </tbody>\n",
              "</table>\n",
              "</div>"
            ],
            "text/plain": [
              "                   A         B         C         D         E\n",
              "2015-01-01 -0.998907  0.014386 -0.833885 -0.332171  0.586323\n",
              "2015-01-02  0.102685  0.938870  0.683354  0.589913  1.166193\n",
              "2015-01-03 -0.867617  0.023997 -1.691339  1.500308  1.560667\n",
              "2015-01-04  1.242142 -2.273332 -2.029672 -0.008212  1.595275\n",
              "2015-01-05 -0.825060  1.142048 -0.485406 -1.416424  0.051378"
            ]
          },
          "metadata": {
            "tags": []
          },
          "execution_count": 8
        }
      ]
    },
    {
      "cell_type": "code",
      "metadata": {
        "colab": {
          "base_uri": "https://localhost:8080/",
          "height": 173
        },
        "id": "nEu_CxcgWRsE",
        "outputId": "f3dc71f2-6054-4858-a420-e96720b5d85e"
      },
      "source": [
        "# seleção 1 linha e 5 colunas\n",
        "df3[1:5]"
      ],
      "execution_count": null,
      "outputs": [
        {
          "output_type": "execute_result",
          "data": {
            "text/html": [
              "<div>\n",
              "<style scoped>\n",
              "    .dataframe tbody tr th:only-of-type {\n",
              "        vertical-align: middle;\n",
              "    }\n",
              "\n",
              "    .dataframe tbody tr th {\n",
              "        vertical-align: top;\n",
              "    }\n",
              "\n",
              "    .dataframe thead th {\n",
              "        text-align: right;\n",
              "    }\n",
              "</style>\n",
              "<table border=\"1\" class=\"dataframe\">\n",
              "  <thead>\n",
              "    <tr style=\"text-align: right;\">\n",
              "      <th></th>\n",
              "      <th>A</th>\n",
              "      <th>B</th>\n",
              "      <th>C</th>\n",
              "      <th>D</th>\n",
              "      <th>E</th>\n",
              "    </tr>\n",
              "  </thead>\n",
              "  <tbody>\n",
              "    <tr>\n",
              "      <th>2015-01-02</th>\n",
              "      <td>0.102685</td>\n",
              "      <td>0.938870</td>\n",
              "      <td>0.683354</td>\n",
              "      <td>0.589913</td>\n",
              "      <td>1.166193</td>\n",
              "    </tr>\n",
              "    <tr>\n",
              "      <th>2015-01-03</th>\n",
              "      <td>-0.867617</td>\n",
              "      <td>0.023997</td>\n",
              "      <td>-1.691339</td>\n",
              "      <td>1.500308</td>\n",
              "      <td>1.560667</td>\n",
              "    </tr>\n",
              "    <tr>\n",
              "      <th>2015-01-04</th>\n",
              "      <td>1.242142</td>\n",
              "      <td>-2.273332</td>\n",
              "      <td>-2.029672</td>\n",
              "      <td>-0.008212</td>\n",
              "      <td>1.595275</td>\n",
              "    </tr>\n",
              "    <tr>\n",
              "      <th>2015-01-05</th>\n",
              "      <td>-0.825060</td>\n",
              "      <td>1.142048</td>\n",
              "      <td>-0.485406</td>\n",
              "      <td>-1.416424</td>\n",
              "      <td>0.051378</td>\n",
              "    </tr>\n",
              "  </tbody>\n",
              "</table>\n",
              "</div>"
            ],
            "text/plain": [
              "                   A         B         C         D         E\n",
              "2015-01-02  0.102685  0.938870  0.683354  0.589913  1.166193\n",
              "2015-01-03 -0.867617  0.023997 -1.691339  1.500308  1.560667\n",
              "2015-01-04  1.242142 -2.273332 -2.029672 -0.008212  1.595275\n",
              "2015-01-05 -0.825060  1.142048 -0.485406 -1.416424  0.051378"
            ]
          },
          "metadata": {
            "tags": []
          },
          "execution_count": 9
        }
      ]
    },
    {
      "cell_type": "code",
      "metadata": {
        "colab": {
          "base_uri": "https://localhost:8080/",
          "height": 419
        },
        "id": "4o207EFsWRo_",
        "outputId": "9d3edfba-35e6-4234-d6c4-aa4d35a80647"
      },
      "source": [
        "# especificar um conjunto de dados\n",
        "df3.loc[:,['A','C','D']]"
      ],
      "execution_count": null,
      "outputs": [
        {
          "output_type": "execute_result",
          "data": {
            "text/html": [
              "<div>\n",
              "<style scoped>\n",
              "    .dataframe tbody tr th:only-of-type {\n",
              "        vertical-align: middle;\n",
              "    }\n",
              "\n",
              "    .dataframe tbody tr th {\n",
              "        vertical-align: top;\n",
              "    }\n",
              "\n",
              "    .dataframe thead th {\n",
              "        text-align: right;\n",
              "    }\n",
              "</style>\n",
              "<table border=\"1\" class=\"dataframe\">\n",
              "  <thead>\n",
              "    <tr style=\"text-align: right;\">\n",
              "      <th></th>\n",
              "      <th>A</th>\n",
              "      <th>C</th>\n",
              "      <th>D</th>\n",
              "    </tr>\n",
              "  </thead>\n",
              "  <tbody>\n",
              "    <tr>\n",
              "      <th>2015-01-01</th>\n",
              "      <td>-0.998907</td>\n",
              "      <td>-0.833885</td>\n",
              "      <td>-0.332171</td>\n",
              "    </tr>\n",
              "    <tr>\n",
              "      <th>2015-01-02</th>\n",
              "      <td>0.102685</td>\n",
              "      <td>0.683354</td>\n",
              "      <td>0.589913</td>\n",
              "    </tr>\n",
              "    <tr>\n",
              "      <th>2015-01-03</th>\n",
              "      <td>-0.867617</td>\n",
              "      <td>-1.691339</td>\n",
              "      <td>1.500308</td>\n",
              "    </tr>\n",
              "    <tr>\n",
              "      <th>2015-01-04</th>\n",
              "      <td>1.242142</td>\n",
              "      <td>-2.029672</td>\n",
              "      <td>-0.008212</td>\n",
              "    </tr>\n",
              "    <tr>\n",
              "      <th>2015-01-05</th>\n",
              "      <td>-0.825060</td>\n",
              "      <td>-0.485406</td>\n",
              "      <td>-1.416424</td>\n",
              "    </tr>\n",
              "    <tr>\n",
              "      <th>...</th>\n",
              "      <td>...</td>\n",
              "      <td>...</td>\n",
              "      <td>...</td>\n",
              "    </tr>\n",
              "    <tr>\n",
              "      <th>2016-08-18</th>\n",
              "      <td>-0.356291</td>\n",
              "      <td>-1.064756</td>\n",
              "      <td>-0.302963</td>\n",
              "    </tr>\n",
              "    <tr>\n",
              "      <th>2016-08-19</th>\n",
              "      <td>-0.383835</td>\n",
              "      <td>0.709457</td>\n",
              "      <td>-0.248846</td>\n",
              "    </tr>\n",
              "    <tr>\n",
              "      <th>2016-08-20</th>\n",
              "      <td>-1.128795</td>\n",
              "      <td>0.449787</td>\n",
              "      <td>0.865578</td>\n",
              "    </tr>\n",
              "    <tr>\n",
              "      <th>2016-08-21</th>\n",
              "      <td>0.939763</td>\n",
              "      <td>0.792592</td>\n",
              "      <td>1.669044</td>\n",
              "    </tr>\n",
              "    <tr>\n",
              "      <th>2016-08-22</th>\n",
              "      <td>0.243781</td>\n",
              "      <td>-0.731096</td>\n",
              "      <td>0.474238</td>\n",
              "    </tr>\n",
              "  </tbody>\n",
              "</table>\n",
              "<p>600 rows × 3 columns</p>\n",
              "</div>"
            ],
            "text/plain": [
              "                   A         C         D\n",
              "2015-01-01 -0.998907 -0.833885 -0.332171\n",
              "2015-01-02  0.102685  0.683354  0.589913\n",
              "2015-01-03 -0.867617 -1.691339  1.500308\n",
              "2015-01-04  1.242142 -2.029672 -0.008212\n",
              "2015-01-05 -0.825060 -0.485406 -1.416424\n",
              "...              ...       ...       ...\n",
              "2016-08-18 -0.356291 -1.064756 -0.302963\n",
              "2016-08-19 -0.383835  0.709457 -0.248846\n",
              "2016-08-20 -1.128795  0.449787  0.865578\n",
              "2016-08-21  0.939763  0.792592  1.669044\n",
              "2016-08-22  0.243781 -0.731096  0.474238\n",
              "\n",
              "[600 rows x 3 columns]"
            ]
          },
          "metadata": {
            "tags": []
          },
          "execution_count": 10
        }
      ]
    },
    {
      "cell_type": "code",
      "metadata": {
        "id": "D8RLsoi6WRmE"
      },
      "source": [
        "l = df3.loc['20150401':'20151009', ['B', 'D']]\n"
      ],
      "execution_count": null,
      "outputs": []
    },
    {
      "cell_type": "code",
      "metadata": {
        "colab": {
          "base_uri": "https://localhost:8080/"
        },
        "id": "dOc-X5_nYI-Z",
        "outputId": "02d23777-9399-43c9-f0fb-4d02aa984783"
      },
      "source": [
        "# ver tamanho do conjunto\n",
        "len(l)"
      ],
      "execution_count": null,
      "outputs": [
        {
          "output_type": "execute_result",
          "data": {
            "text/plain": [
              "192"
            ]
          },
          "metadata": {
            "tags": []
          },
          "execution_count": 17
        }
      ]
    },
    {
      "cell_type": "code",
      "metadata": {
        "colab": {
          "base_uri": "https://localhost:8080/",
          "height": 142
        },
        "id": "GDp-R5wQYI7C",
        "outputId": "6f5b13a5-f56a-4612-afaf-0731ba2bfd47"
      },
      "source": [
        "l = df3.loc['20150401':'20151009', ['B', 'D']].head(3)\n",
        "l"
      ],
      "execution_count": null,
      "outputs": [
        {
          "output_type": "execute_result",
          "data": {
            "text/html": [
              "<div>\n",
              "<style scoped>\n",
              "    .dataframe tbody tr th:only-of-type {\n",
              "        vertical-align: middle;\n",
              "    }\n",
              "\n",
              "    .dataframe tbody tr th {\n",
              "        vertical-align: top;\n",
              "    }\n",
              "\n",
              "    .dataframe thead th {\n",
              "        text-align: right;\n",
              "    }\n",
              "</style>\n",
              "<table border=\"1\" class=\"dataframe\">\n",
              "  <thead>\n",
              "    <tr style=\"text-align: right;\">\n",
              "      <th></th>\n",
              "      <th>B</th>\n",
              "      <th>D</th>\n",
              "    </tr>\n",
              "  </thead>\n",
              "  <tbody>\n",
              "    <tr>\n",
              "      <th>2015-04-01</th>\n",
              "      <td>-0.551643</td>\n",
              "      <td>1.092979</td>\n",
              "    </tr>\n",
              "    <tr>\n",
              "      <th>2015-04-02</th>\n",
              "      <td>-0.985416</td>\n",
              "      <td>0.141045</td>\n",
              "    </tr>\n",
              "    <tr>\n",
              "      <th>2015-04-03</th>\n",
              "      <td>0.231970</td>\n",
              "      <td>-0.116054</td>\n",
              "    </tr>\n",
              "  </tbody>\n",
              "</table>\n",
              "</div>"
            ],
            "text/plain": [
              "                   B         D\n",
              "2015-04-01 -0.551643  1.092979\n",
              "2015-04-02 -0.985416  0.141045\n",
              "2015-04-03  0.231970 -0.116054"
            ]
          },
          "metadata": {
            "tags": []
          },
          "execution_count": 19
        }
      ]
    },
    {
      "cell_type": "code",
      "metadata": {
        "colab": {
          "base_uri": "https://localhost:8080/"
        },
        "id": "dfXeQobJYI4u",
        "outputId": "8dd4b660-3bcf-4250-f688-ae7490b0942b"
      },
      "source": [
        "# selecionar linha\n",
        "df3.iloc[1]"
      ],
      "execution_count": null,
      "outputs": [
        {
          "output_type": "execute_result",
          "data": {
            "text/plain": [
              "A    0.102685\n",
              "B    0.938870\n",
              "C    0.683354\n",
              "D    0.589913\n",
              "E    1.166193\n",
              "Name: 2015-01-02 00:00:00, dtype: float64"
            ]
          },
          "metadata": {
            "tags": []
          },
          "execution_count": 21
        }
      ]
    },
    {
      "cell_type": "code",
      "metadata": {
        "colab": {
          "base_uri": "https://localhost:8080/",
          "height": 111
        },
        "id": "NPqfmisYZEgD",
        "outputId": "70d2b50b-2e63-46b5-a368-880e694915b7"
      },
      "source": [
        "df3.iloc[2:4,0:2]"
      ],
      "execution_count": null,
      "outputs": [
        {
          "output_type": "execute_result",
          "data": {
            "text/html": [
              "<div>\n",
              "<style scoped>\n",
              "    .dataframe tbody tr th:only-of-type {\n",
              "        vertical-align: middle;\n",
              "    }\n",
              "\n",
              "    .dataframe tbody tr th {\n",
              "        vertical-align: top;\n",
              "    }\n",
              "\n",
              "    .dataframe thead th {\n",
              "        text-align: right;\n",
              "    }\n",
              "</style>\n",
              "<table border=\"1\" class=\"dataframe\">\n",
              "  <thead>\n",
              "    <tr style=\"text-align: right;\">\n",
              "      <th></th>\n",
              "      <th>A</th>\n",
              "      <th>B</th>\n",
              "    </tr>\n",
              "  </thead>\n",
              "  <tbody>\n",
              "    <tr>\n",
              "      <th>2015-01-03</th>\n",
              "      <td>-0.867617</td>\n",
              "      <td>0.023997</td>\n",
              "    </tr>\n",
              "    <tr>\n",
              "      <th>2015-01-04</th>\n",
              "      <td>1.242142</td>\n",
              "      <td>-2.273332</td>\n",
              "    </tr>\n",
              "  </tbody>\n",
              "</table>\n",
              "</div>"
            ],
            "text/plain": [
              "                   A         B\n",
              "2015-01-03 -0.867617  0.023997\n",
              "2015-01-04  1.242142 -2.273332"
            ]
          },
          "metadata": {
            "tags": []
          },
          "execution_count": 22
        }
      ]
    },
    {
      "cell_type": "code",
      "metadata": {
        "colab": {
          "base_uri": "https://localhost:8080/",
          "height": 142
        },
        "id": "4F6pSdC0ZEc0",
        "outputId": "c772dec2-bbd5-4de1-dabb-5dd116366428"
      },
      "source": [
        "df3.iloc[[1,5,6],[0,3]]"
      ],
      "execution_count": null,
      "outputs": [
        {
          "output_type": "execute_result",
          "data": {
            "text/html": [
              "<div>\n",
              "<style scoped>\n",
              "    .dataframe tbody tr th:only-of-type {\n",
              "        vertical-align: middle;\n",
              "    }\n",
              "\n",
              "    .dataframe tbody tr th {\n",
              "        vertical-align: top;\n",
              "    }\n",
              "\n",
              "    .dataframe thead th {\n",
              "        text-align: right;\n",
              "    }\n",
              "</style>\n",
              "<table border=\"1\" class=\"dataframe\">\n",
              "  <thead>\n",
              "    <tr style=\"text-align: right;\">\n",
              "      <th></th>\n",
              "      <th>A</th>\n",
              "      <th>D</th>\n",
              "    </tr>\n",
              "  </thead>\n",
              "  <tbody>\n",
              "    <tr>\n",
              "      <th>2015-01-02</th>\n",
              "      <td>0.102685</td>\n",
              "      <td>0.589913</td>\n",
              "    </tr>\n",
              "    <tr>\n",
              "      <th>2015-01-06</th>\n",
              "      <td>-0.865699</td>\n",
              "      <td>-0.985893</td>\n",
              "    </tr>\n",
              "    <tr>\n",
              "      <th>2015-01-07</th>\n",
              "      <td>-1.353021</td>\n",
              "      <td>-1.571980</td>\n",
              "    </tr>\n",
              "  </tbody>\n",
              "</table>\n",
              "</div>"
            ],
            "text/plain": [
              "                   A         D\n",
              "2015-01-02  0.102685  0.589913\n",
              "2015-01-06 -0.865699 -0.985893\n",
              "2015-01-07 -1.353021 -1.571980"
            ]
          },
          "metadata": {
            "tags": []
          },
          "execution_count": 24
        }
      ]
    },
    {
      "cell_type": "code",
      "metadata": {
        "colab": {
          "base_uri": "https://localhost:8080/",
          "height": 111
        },
        "id": "9fkyNnzKZEZy",
        "outputId": "3a86bfad-a644-4002-d1fc-673a09d24e4b"
      },
      "source": [
        "df3.iloc[1:3,:]"
      ],
      "execution_count": null,
      "outputs": [
        {
          "output_type": "execute_result",
          "data": {
            "text/html": [
              "<div>\n",
              "<style scoped>\n",
              "    .dataframe tbody tr th:only-of-type {\n",
              "        vertical-align: middle;\n",
              "    }\n",
              "\n",
              "    .dataframe tbody tr th {\n",
              "        vertical-align: top;\n",
              "    }\n",
              "\n",
              "    .dataframe thead th {\n",
              "        text-align: right;\n",
              "    }\n",
              "</style>\n",
              "<table border=\"1\" class=\"dataframe\">\n",
              "  <thead>\n",
              "    <tr style=\"text-align: right;\">\n",
              "      <th></th>\n",
              "      <th>A</th>\n",
              "      <th>B</th>\n",
              "      <th>C</th>\n",
              "      <th>D</th>\n",
              "      <th>E</th>\n",
              "    </tr>\n",
              "  </thead>\n",
              "  <tbody>\n",
              "    <tr>\n",
              "      <th>2015-01-02</th>\n",
              "      <td>0.102685</td>\n",
              "      <td>0.938870</td>\n",
              "      <td>0.683354</td>\n",
              "      <td>0.589913</td>\n",
              "      <td>1.166193</td>\n",
              "    </tr>\n",
              "    <tr>\n",
              "      <th>2015-01-03</th>\n",
              "      <td>-0.867617</td>\n",
              "      <td>0.023997</td>\n",
              "      <td>-1.691339</td>\n",
              "      <td>1.500308</td>\n",
              "      <td>1.560667</td>\n",
              "    </tr>\n",
              "  </tbody>\n",
              "</table>\n",
              "</div>"
            ],
            "text/plain": [
              "                   A         B         C         D         E\n",
              "2015-01-02  0.102685  0.938870  0.683354  0.589913  1.166193\n",
              "2015-01-03 -0.867617  0.023997 -1.691339  1.500308  1.560667"
            ]
          },
          "metadata": {
            "tags": []
          },
          "execution_count": 26
        }
      ]
    },
    {
      "cell_type": "code",
      "metadata": {
        "id": "i7iKxAaWaDU5"
      },
      "source": [
        ""
      ],
      "execution_count": null,
      "outputs": []
    },
    {
      "cell_type": "code",
      "metadata": {
        "id": "yq1rR1hIaDSP"
      },
      "source": [
        ""
      ],
      "execution_count": null,
      "outputs": []
    },
    {
      "cell_type": "code",
      "metadata": {
        "id": "Obu7TiJfaDPG"
      },
      "source": [
        ""
      ],
      "execution_count": null,
      "outputs": []
    }
  ]
}